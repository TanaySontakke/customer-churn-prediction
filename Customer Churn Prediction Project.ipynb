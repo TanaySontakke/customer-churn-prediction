{
 "cells": [
  {
   "cell_type": "markdown",
   "id": "9e107d45-4888-4677-a1e9-81a7d532cc02",
   "metadata": {},
   "source": [
    "# Predicting Customer Churn for a Telecom Company"
   ]
  },
  {
   "cell_type": "markdown",
   "id": "5d1b164e-1108-47ed-89ca-6934989ebece",
   "metadata": {},
   "source": [
    "We will build a predictive machine learning model to predict customer churn using the [Telco Customer Churn dataset](https://www.kaggle.com/datasets/blastchar/telco-customer-churn) from Kaggle. Here, Telco represents a fictional telecom company, and we're impersonating a Data Scientist at Telco, analyzing the data to uncover insights and building a churn prediction model that can predict if a customer is likely to churn or not."
   ]
  },
  {
   "cell_type": "markdown",
   "id": "c75c1fae-e9ec-493a-ac82-8aeed48113d6",
   "metadata": {},
   "source": [
    "## Importing necessary libraries"
   ]
  },
  {
   "cell_type": "code",
   "execution_count": 1,
   "id": "cf4c6849-d869-4ea1-9b99-144ca43140a2",
   "metadata": {},
   "outputs": [],
   "source": [
    "import numpy as np\n",
    "import pandas as pd\n",
    "from matplotlib import pyplot as plt\n",
    "import seaborn as sns\n",
    "from sklearn.linear_model import LogisticRegression\n",
    "from sklearn.ensemble import RandomForestClassifier\n",
    "from sklearn.metrics import f1_score\n",
    "from sklearn.model_selection import StratifiedKFold, cross_val_score\n",
    "from sklearn.preprocessing import LabelEncoder, StandardScaler\n",
    "from sklearn.model_selection import RandomizedSearchCV"
   ]
  },
  {
   "cell_type": "markdown",
   "id": "c86cb87f-d3cd-4bb5-a9a3-6f03fecb35e6",
   "metadata": {},
   "source": [
    "## Importing data and checking high-level characteristics"
   ]
  },
  {
   "cell_type": "code",
   "execution_count": 2,
   "id": "596ef179-20c3-417f-aec8-3764c9b9901f",
   "metadata": {
    "scrolled": true
   },
   "outputs": [
    {
     "name": "stdout",
     "output_type": "stream",
     "text": [
      "   customerID  gender  SeniorCitizen Partner Dependents  tenure PhoneService  \\\n",
      "0  7590-VHVEG  Female              0     Yes         No       1           No   \n",
      "1  5575-GNVDE    Male              0      No         No      34          Yes   \n",
      "2  3668-QPYBK    Male              0      No         No       2          Yes   \n",
      "3  7795-CFOCW    Male              0      No         No      45           No   \n",
      "4  9237-HQITU  Female              0      No         No       2          Yes   \n",
      "\n",
      "      MultipleLines InternetService OnlineSecurity  ... DeviceProtection  \\\n",
      "0  No phone service             DSL             No  ...               No   \n",
      "1                No             DSL            Yes  ...              Yes   \n",
      "2                No             DSL            Yes  ...               No   \n",
      "3  No phone service             DSL            Yes  ...              Yes   \n",
      "4                No     Fiber optic             No  ...               No   \n",
      "\n",
      "  TechSupport StreamingTV StreamingMovies        Contract PaperlessBilling  \\\n",
      "0          No          No              No  Month-to-month              Yes   \n",
      "1          No          No              No        One year               No   \n",
      "2          No          No              No  Month-to-month              Yes   \n",
      "3         Yes          No              No        One year               No   \n",
      "4          No          No              No  Month-to-month              Yes   \n",
      "\n",
      "               PaymentMethod MonthlyCharges  TotalCharges Churn  \n",
      "0           Electronic check          29.85         29.85    No  \n",
      "1               Mailed check          56.95        1889.5    No  \n",
      "2               Mailed check          53.85        108.15   Yes  \n",
      "3  Bank transfer (automatic)          42.30       1840.75    No  \n",
      "4           Electronic check          70.70        151.65   Yes  \n",
      "\n",
      "[5 rows x 21 columns]\n",
      "Index(['customerID', 'gender', 'SeniorCitizen', 'Partner', 'Dependents',\n",
      "       'tenure', 'PhoneService', 'MultipleLines', 'InternetService',\n",
      "       'OnlineSecurity', 'OnlineBackup', 'DeviceProtection', 'TechSupport',\n",
      "       'StreamingTV', 'StreamingMovies', 'Contract', 'PaperlessBilling',\n",
      "       'PaymentMethod', 'MonthlyCharges', 'TotalCharges', 'Churn'],\n",
      "      dtype='object')\n",
      "(7043, 21)\n"
     ]
    }
   ],
   "source": [
    "df = pd.read_csv('telco-customer-churn.csv')\n",
    "\n",
    "print(df.head())\n",
    "print(df.columns)\n",
    "print(df.shape)"
   ]
  },
  {
   "cell_type": "markdown",
   "id": "bb9afe14-ff5c-4bf9-b6c7-a7401077407a",
   "metadata": {},
   "source": [
    "## Data Cleaning and Preparation"
   ]
  },
  {
   "cell_type": "markdown",
   "id": "bb79d63c-f75b-4d68-b675-c7e930cd6609",
   "metadata": {},
   "source": [
    "### Dropping unnecessary columns"
   ]
  },
  {
   "cell_type": "code",
   "execution_count": 3,
   "id": "ea130a54-1815-450a-9000-cbe4a7828c50",
   "metadata": {},
   "outputs": [
    {
     "name": "stdout",
     "output_type": "stream",
     "text": [
      "Index(['gender', 'SeniorCitizen', 'Partner', 'Dependents', 'tenure',\n",
      "       'PhoneService', 'MultipleLines', 'InternetService', 'OnlineSecurity',\n",
      "       'OnlineBackup', 'DeviceProtection', 'TechSupport', 'StreamingTV',\n",
      "       'StreamingMovies', 'Contract', 'PaperlessBilling', 'PaymentMethod',\n",
      "       'MonthlyCharges', 'TotalCharges', 'Churn'],\n",
      "      dtype='object')\n",
      "(7043, 20)\n"
     ]
    }
   ],
   "source": [
    "# Drop 'customerID' column, since it has no usefulness in analysis or training a machine learning model\n",
    "df = df.drop(['customerID'], axis=1)\n",
    "\n",
    "print(df.columns)\n",
    "print(df.shape)"
   ]
  },
  {
   "cell_type": "markdown",
   "id": "a31c1dcc-8c8d-457f-88d7-3fbef49ced32",
   "metadata": {},
   "source": [
    "### Converting 'Churn' target variable to binary (0 or 1)"
   ]
  },
  {
   "cell_type": "markdown",
   "id": "1fa7a31d-98b2-4e7b-b3f1-d59333acfafe",
   "metadata": {},
   "source": [
    "Let's convert the target variable 'Churn' to a numeric binary (1 and 0) representation, for compatibility with ML algorithms"
   ]
  },
  {
   "cell_type": "code",
   "execution_count": 4,
   "id": "9fb4417e-ca6b-4c63-9fbf-14e0022437e9",
   "metadata": {},
   "outputs": [
    {
     "name": "stdout",
     "output_type": "stream",
     "text": [
      "   MonthlyCharges TotalCharges  Churn\n",
      "0           29.85        29.85      0\n",
      "1           56.95       1889.5      0\n",
      "2           53.85       108.15      1\n",
      "3           42.30      1840.75      0\n",
      "4           70.70       151.65      1\n",
      "5           99.65        820.5      1\n",
      "6           89.10       1949.4      0\n",
      "7           29.75        301.9      0\n",
      "8          104.80      3046.05      1\n",
      "9           56.15      3487.95      0\n"
     ]
    }
   ],
   "source": [
    "df['Churn'] = df['Churn'].map({'Yes': 1, 'No': 0})\n",
    "\n",
    "# Validating a few records (first 10 records and last 3 columns, including 'Churn')\n",
    "print(df.iloc[:10, -3:])"
   ]
  },
  {
   "cell_type": "markdown",
   "id": "eb03613e-a6d2-46f2-9281-6fb0a936fdc2",
   "metadata": {},
   "source": [
    "### Checking for Missing Values"
   ]
  },
  {
   "cell_type": "code",
   "execution_count": 5,
   "id": "272f3e4d-1518-456a-bba6-3de3260cc532",
   "metadata": {
    "scrolled": true
   },
   "outputs": [
    {
     "name": "stdout",
     "output_type": "stream",
     "text": [
      "gender              0\n",
      "SeniorCitizen       0\n",
      "Partner             0\n",
      "Dependents          0\n",
      "tenure              0\n",
      "PhoneService        0\n",
      "MultipleLines       0\n",
      "InternetService     0\n",
      "OnlineSecurity      0\n",
      "OnlineBackup        0\n",
      "DeviceProtection    0\n",
      "TechSupport         0\n",
      "StreamingTV         0\n",
      "StreamingMovies     0\n",
      "Contract            0\n",
      "PaperlessBilling    0\n",
      "PaymentMethod       0\n",
      "MonthlyCharges      0\n",
      "TotalCharges        0\n",
      "Churn               0\n",
      "dtype: int64\n"
     ]
    }
   ],
   "source": [
    "# Check for missing values\n",
    "print(df.isna().sum())"
   ]
  },
  {
   "cell_type": "markdown",
   "id": "b65924c3-c47e-46a0-bae8-49543fc8a72a",
   "metadata": {},
   "source": [
    "There are no explicit missing values in the data."
   ]
  },
  {
   "cell_type": "markdown",
   "id": "66ffc979-47b4-4848-b4c9-25fe7ce49bc9",
   "metadata": {},
   "source": [
    "### Checking datatypes of all columns and converting them where necessary"
   ]
  },
  {
   "cell_type": "code",
   "execution_count": 6,
   "id": "4e06decd-5f84-4433-a27f-442dd976f056",
   "metadata": {},
   "outputs": [
    {
     "name": "stdout",
     "output_type": "stream",
     "text": [
      "gender               object\n",
      "SeniorCitizen         int64\n",
      "Partner              object\n",
      "Dependents           object\n",
      "tenure                int64\n",
      "PhoneService         object\n",
      "MultipleLines        object\n",
      "InternetService      object\n",
      "OnlineSecurity       object\n",
      "OnlineBackup         object\n",
      "DeviceProtection     object\n",
      "TechSupport          object\n",
      "StreamingTV          object\n",
      "StreamingMovies      object\n",
      "Contract             object\n",
      "PaperlessBilling     object\n",
      "PaymentMethod        object\n",
      "MonthlyCharges      float64\n",
      "TotalCharges         object\n",
      "Churn                 int64\n",
      "dtype: object\n"
     ]
    }
   ],
   "source": [
    "print(df.dtypes)"
   ]
  },
  {
   "cell_type": "markdown",
   "id": "913a3487-1d92-459f-88fb-aa99308a4be1",
   "metadata": {},
   "source": [
    "We see that 'TotalCharges' column is of 'object' type and needs to be converted to numeric"
   ]
  },
  {
   "cell_type": "code",
   "execution_count": 7,
   "id": "f486f576-f346-44b4-81ad-a8e11799225a",
   "metadata": {},
   "outputs": [],
   "source": [
    "# Converting 'TotalCharges' column to numeric data type\n",
    "df['TotalCharges'] = pd.to_numeric(df['TotalCharges'], errors='coerce')"
   ]
  },
  {
   "cell_type": "markdown",
   "id": "2952bcb2-b427-418d-9742-3110fb65284f",
   "metadata": {},
   "source": [
    "We had to use errors='coerce' because there were conversion errors encountered due to blank strings \" \" in the 'TotalCharges' column. With errors='coerce', these blank strings would be converted to NaN values. Let's check this below."
   ]
  },
  {
   "cell_type": "markdown",
   "id": "98d67446-db62-4009-8b53-cddbb90d4951",
   "metadata": {},
   "source": [
    "### Check for and removing missing values after data type treatment"
   ]
  },
  {
   "cell_type": "code",
   "execution_count": 8,
   "id": "45e5e45e-b0e2-4f52-90c5-a6496200f5dd",
   "metadata": {
    "scrolled": true
   },
   "outputs": [
    {
     "name": "stdout",
     "output_type": "stream",
     "text": [
      "gender               0\n",
      "SeniorCitizen        0\n",
      "Partner              0\n",
      "Dependents           0\n",
      "tenure               0\n",
      "PhoneService         0\n",
      "MultipleLines        0\n",
      "InternetService      0\n",
      "OnlineSecurity       0\n",
      "OnlineBackup         0\n",
      "DeviceProtection     0\n",
      "TechSupport          0\n",
      "StreamingTV          0\n",
      "StreamingMovies      0\n",
      "Contract             0\n",
      "PaperlessBilling     0\n",
      "PaymentMethod        0\n",
      "MonthlyCharges       0\n",
      "TotalCharges        11\n",
      "Churn                0\n",
      "dtype: int64\n"
     ]
    }
   ],
   "source": [
    "print(df.isna().sum())"
   ]
  },
  {
   "cell_type": "markdown",
   "id": "cbaa8631-011d-4d5f-8e90-9a075e5ee082",
   "metadata": {},
   "source": [
    "We see that 'TotalCharges' has NaN values in 11 records. Let's check these records in detail"
   ]
  },
  {
   "cell_type": "code",
   "execution_count": 9,
   "id": "3a076306-5424-4b3e-a415-78f94356f1c3",
   "metadata": {
    "scrolled": true
   },
   "outputs": [
    {
     "name": "stdout",
     "output_type": "stream",
     "text": [
      "      gender  SeniorCitizen Partner Dependents  tenure PhoneService  \\\n",
      "488   Female              0     Yes        Yes       0           No   \n",
      "753     Male              0      No        Yes       0          Yes   \n",
      "936   Female              0     Yes        Yes       0          Yes   \n",
      "1082    Male              0     Yes        Yes       0          Yes   \n",
      "1340  Female              0     Yes        Yes       0           No   \n",
      "3331    Male              0     Yes        Yes       0          Yes   \n",
      "3826    Male              0     Yes        Yes       0          Yes   \n",
      "4380  Female              0     Yes        Yes       0          Yes   \n",
      "5218    Male              0     Yes        Yes       0          Yes   \n",
      "6670  Female              0     Yes        Yes       0          Yes   \n",
      "6754    Male              0      No        Yes       0          Yes   \n",
      "\n",
      "         MultipleLines InternetService       OnlineSecurity  \\\n",
      "488   No phone service             DSL                  Yes   \n",
      "753                 No              No  No internet service   \n",
      "936                 No             DSL                  Yes   \n",
      "1082               Yes              No  No internet service   \n",
      "1340  No phone service             DSL                  Yes   \n",
      "3331                No              No  No internet service   \n",
      "3826               Yes              No  No internet service   \n",
      "4380                No              No  No internet service   \n",
      "5218                No              No  No internet service   \n",
      "6670               Yes             DSL                   No   \n",
      "6754               Yes             DSL                  Yes   \n",
      "\n",
      "             OnlineBackup     DeviceProtection          TechSupport  \\\n",
      "488                    No                  Yes                  Yes   \n",
      "753   No internet service  No internet service  No internet service   \n",
      "936                   Yes                  Yes                   No   \n",
      "1082  No internet service  No internet service  No internet service   \n",
      "1340                  Yes                  Yes                  Yes   \n",
      "3331  No internet service  No internet service  No internet service   \n",
      "3826  No internet service  No internet service  No internet service   \n",
      "4380  No internet service  No internet service  No internet service   \n",
      "5218  No internet service  No internet service  No internet service   \n",
      "6670                  Yes                  Yes                  Yes   \n",
      "6754                  Yes                   No                  Yes   \n",
      "\n",
      "              StreamingTV      StreamingMovies  Contract PaperlessBilling  \\\n",
      "488                   Yes                   No  Two year              Yes   \n",
      "753   No internet service  No internet service  Two year               No   \n",
      "936                   Yes                  Yes  Two year               No   \n",
      "1082  No internet service  No internet service  Two year               No   \n",
      "1340                  Yes                   No  Two year               No   \n",
      "3331  No internet service  No internet service  Two year               No   \n",
      "3826  No internet service  No internet service  Two year               No   \n",
      "4380  No internet service  No internet service  Two year               No   \n",
      "5218  No internet service  No internet service  One year              Yes   \n",
      "6670                  Yes                   No  Two year               No   \n",
      "6754                   No                   No  Two year              Yes   \n",
      "\n",
      "                  PaymentMethod  MonthlyCharges  TotalCharges  Churn  \n",
      "488   Bank transfer (automatic)           52.55           NaN      0  \n",
      "753                Mailed check           20.25           NaN      0  \n",
      "936                Mailed check           80.85           NaN      0  \n",
      "1082               Mailed check           25.75           NaN      0  \n",
      "1340    Credit card (automatic)           56.05           NaN      0  \n",
      "3331               Mailed check           19.85           NaN      0  \n",
      "3826               Mailed check           25.35           NaN      0  \n",
      "4380               Mailed check           20.00           NaN      0  \n",
      "5218               Mailed check           19.70           NaN      0  \n",
      "6670               Mailed check           73.35           NaN      0  \n",
      "6754  Bank transfer (automatic)           61.90           NaN      0  \n"
     ]
    }
   ],
   "source": [
    "print(df[df['TotalCharges'].isna()])"
   ]
  },
  {
   "cell_type": "markdown",
   "id": "5f78dc65-68e0-44b9-b284-a3f9f18c7514",
   "metadata": {},
   "source": [
    "We see that 'Tenure' is 0 for all the above records. Since there are only 11 such records, let's drop them from consideration for further analysis."
   ]
  },
  {
   "cell_type": "code",
   "execution_count": 10,
   "id": "e42adbea-de90-44f3-970e-28452450aa24",
   "metadata": {},
   "outputs": [
    {
     "name": "stdout",
     "output_type": "stream",
     "text": [
      "Record count before filtering NaN values:  7043\n",
      "Record count after filtering NaN values:  7032\n"
     ]
    }
   ],
   "source": [
    "print('Record count before filtering NaN values: ', len(df))\n",
    "\n",
    "df = df.dropna(subset=['TotalCharges'])\n",
    "df = df.reset_index(drop=True)\n",
    "\n",
    "print('Record count after filtering NaN values: ', len(df))"
   ]
  },
  {
   "cell_type": "markdown",
   "id": "2c13a62d-ef10-4750-a4b6-1271d9ce3888",
   "metadata": {},
   "source": [
    "## Exploratory Data Analysis"
   ]
  },
  {
   "cell_type": "markdown",
   "id": "e12522f3-e555-48cd-8926-8a730ff175cc",
   "metadata": {},
   "source": [
    "### Checking target class balance"
   ]
  },
  {
   "cell_type": "code",
   "execution_count": 11,
   "id": "990bfc93-3c0e-4351-b867-f2903d5d8077",
   "metadata": {},
   "outputs": [
    {
     "name": "stdout",
     "output_type": "stream",
     "text": [
      "Churn\n",
      "0    5163\n",
      "1    1869\n",
      "Name: count, dtype: int64\n"
     ]
    }
   ],
   "source": [
    "print(df['Churn'].value_counts())"
   ]
  },
  {
   "cell_type": "markdown",
   "id": "42599934-b44b-43e0-9734-e195a59271f4",
   "metadata": {},
   "source": [
    "We see a significant imbalance between classes, with churned customers being far fewer than not churned customers overall. This is an important insight which will need to be considered later while training our machine learning model, to ensure greater reliability of predictions and f1-scores, and avoid bias toward the majority class.\n",
    "\n",
    "While not implemented here, resampling techniques like oversampling the minority class (SMOTE) or undersampling the majority class can be used to address the imbalance itself and make the data more class-balanced. The former can be used with small to medium-sized datasets, while the latter should be used only on larger datasets"
   ]
  },
  {
   "cell_type": "markdown",
   "id": "62b85eab-a901-4d3d-b21c-2cc906216a5e",
   "metadata": {},
   "source": [
    "### Distribution of Customers by Monthly Charges, Total Charges and Tenure"
   ]
  },
  {
   "cell_type": "code",
   "execution_count": 12,
   "id": "9344db4d-6489-4cb2-8861-2092d4a3d03c",
   "metadata": {},
   "outputs": [
    {
     "data": {
      "image/png": "[encoded data removed]",
      "text/plain": [
       "<Figure size 1800x500 with 3 Axes>"
      ]
     },
     "metadata": {},
     "output_type": "display_data"
    }
   ],
   "source": [
    "# Set up the figure and subplots\n",
    "fig, axes = plt.subplots(1, 3, figsize=(18, 5))\n",
    "sns.set(style=\"whitegrid\")\n",
    "\n",
    "# Plot MonthlyCharges distribution\n",
    "sns.histplot(df['MonthlyCharges'], kde=True, ax=axes[0], color='blue')\n",
    "axes[0].set_title('Monthly Charges Distribution')\n",
    "\n",
    "# Plot TotalCharges distribution\n",
    "sns.histplot(df['TotalCharges'], kde=True, ax=axes[1], color='green')\n",
    "axes[1].set_title('Total Charges Distribution')\n",
    "\n",
    "# Plot tenure distribution\n",
    "sns.histplot(df['tenure'], kde=True, ax=axes[2], color='red')\n",
    "axes[2].set_title('Tenure Distribution')\n",
    "\n",
    "plt.tight_layout()\n",
    "plt.show()"
   ]
  },
  {
   "cell_type": "markdown",
   "id": "6b5dff24-338d-4b58-9fa1-4514a86f069a",
   "metadata": {},
   "source": [
    "From the 'Monthly Charges Distribution' graph, we see a high concentration of customers taking subscriptions with low monthly charges (20-30). A relatively good concentration is also seen in the MonthlyCharges range of 70-90. This seems to suggest that customers are opting for either very low priced subscriptions or relatively high-priced subscriptions, but not that many are opting for the options in between (30-60).\n",
    "\n",
    "In combination with the analysis of Total Charges and Tenure however, the higher-priced subscriptions (higher MonthlyCharges) don't seem indicative of a higher tenure/higher total charges.\n",
    "\n",
    "Looking at the distribution of Tenure, we see an interesting pattern of high number of customers with either a small tenure (<5 months) or long tenure (>70 months)."
   ]
  },
  {
   "cell_type": "markdown",
   "id": "e77bdc15-3187-492f-9778-e369ef7b9285",
   "metadata": {},
   "source": [
    "### Tenure by Churn Status"
   ]
  },
  {
   "cell_type": "code",
   "execution_count": 13,
   "id": "62f0d400-5220-479d-a836-510bd5a15249",
   "metadata": {},
   "outputs": [
    {
     "data": {
      "image/png": "[encoded data removed]",
      "text/plain": [
       "<Figure size 600x500 with 1 Axes>"
      ]
     },
     "metadata": {},
     "output_type": "display_data"
    }
   ],
   "source": [
    "plt.figure(figsize=(6, 5))\n",
    "\n",
    "# Boxplot of tenure grouped by churn\n",
    "sns.boxplot(x='Churn', y='tenure', data=df, hue='Churn')\n",
    "\n",
    "plt.title('Tenure by Churn Status')\n",
    "plt.xlabel('Churn')\n",
    "plt.ylabel('Tenure (months)')\n",
    "plt.show()"
   ]
  },
  {
   "cell_type": "markdown",
   "id": "a01be75c-f1e7-4534-a263-1741785a5561",
   "metadata": {},
   "source": [
    "We see very clearly that customers who churned had a significantly lower tenure on average. The median tenure for the non-churned customers is nearly 40 months, while the median tenure for the churned customers is only 10 months. This suggests that loyalty builds over time, and customers who churn generally tend to do so early in their relationship with the company. But if the company builds retention strategies targeted towards new customers, keeping them engaged for the first 1-2 years, then customers will be less likely to churn, improving overall customer retention."
   ]
  },
  {
   "cell_type": "markdown",
   "id": "0027f392-03bc-47a3-9d8c-36018a708a53",
   "metadata": {},
   "source": [
    "### Churn by Contract Type"
   ]
  },
  {
   "cell_type": "markdown",
   "id": "6353caa4-fa99-4585-aedc-89495a3f7fd7",
   "metadata": {},
   "source": [
    "It's interesting to explore whether the type of contract (Month-to-month, One year, Two year) has a correlation with churn. Intuition would suggest that people with month-to-month contracts would be significantly more likely to churn than people with longer contracts. Let's analyze the churn, broken down by contract type, to test this hypothesis."
   ]
  },
  {
   "cell_type": "code",
   "execution_count": 14,
   "id": "e7326f98-38a0-429c-9eb7-33c6c5a2200b",
   "metadata": {},
   "outputs": [
    {
     "data": {
      "image/png": "[encoded data removed]",
      "text/plain": [
       "<Figure size 800x500 with 1 Axes>"
      ]
     },
     "metadata": {},
     "output_type": "display_data"
    }
   ],
   "source": [
    "# Group by Contract and calculate Churn Rate\n",
    "churn_by_contract = df.groupby('Contract')['Churn'].mean().reset_index()\n",
    "\n",
    "# Convert churn rate to percentage value\n",
    "churn_by_contract['ChurnRate'] = churn_by_contract['Churn'] * 100\n",
    "\n",
    "# Plot\n",
    "sns.set(style=\"whitegrid\")\n",
    "plt.figure(figsize=(8, 5))\n",
    "ax = sns.barplot(x='Contract', y='ChurnRate', data=churn_by_contract, hue='Contract')\n",
    "\n",
    "# Add data labels\n",
    "for p in ax.patches:\n",
    "    height = p.get_height()\n",
    "    ax.annotate(f'{height:.1f}%', \n",
    "                (p.get_x() + p.get_width() / 2., height), \n",
    "                ha='center', va='bottom', fontsize=11, color='black')\n",
    "\n",
    "# Y-axis as percent\n",
    "ax.set_ylim(0, 100)\n",
    "ax.set_ylabel('Churn Rate (%)')\n",
    "ax.set_xlabel('Contract Type')\n",
    "plt.title('Churn Rate by Contract Type')\n",
    "plt.show()\n"
   ]
  },
  {
   "cell_type": "markdown",
   "id": "558014ff-6df5-4a28-a055-aa2f3bd2bfaf",
   "metadata": {},
   "source": [
    "This validates our hypothesis that Month-to-month contracts have significantly higher churn rates than One or Two-year contracts. This is likely due to customers with one or two year contracts having fewer opportunities to cancel and greater commitment before signing up due to higher upfront costs. The data clearly points to Contract Type being a strong predictor of churn."
   ]
  },
  {
   "cell_type": "markdown",
   "id": "e927bce3-205f-4fe6-8fb8-81b1ab58dd8c",
   "metadata": {},
   "source": [
    "### Monthly Charges (Subscription Rate) by Churn Status"
   ]
  },
  {
   "cell_type": "code",
   "execution_count": 15,
   "id": "ab9c3869-e7b1-414d-8424-b2667d0b9df5",
   "metadata": {},
   "outputs": [
    {
     "data": {
      "image/png": "[encoded data removed]",
      "text/plain": [
       "<Figure size 640x480 with 1 Axes>"
      ]
     },
     "metadata": {},
     "output_type": "display_data"
    }
   ],
   "source": [
    "sns.boxplot(x='Churn', y='MonthlyCharges', data=df, hue='Churn')\n",
    "plt.title('Monthly Charges by Churn')\n",
    "plt.show()"
   ]
  },
  {
   "cell_type": "markdown",
   "id": "2f401dba-e300-4ea2-9ff4-415a76eb7869",
   "metadata": {},
   "source": [
    "Churned customers have noticeably higher median MonthlyCharges, at \\$80, compared to \\\\$60-65 for non-churned customers. This suggests that higher monthly subscription rates may be a contributing factor to churn - possibly due to dissatisfaction with perceived value-for-money, or affordability reasons."
   ]
  },
  {
   "cell_type": "markdown",
   "id": "440933d2-df55-4bc7-9183-3edce276dc2e",
   "metadata": {},
   "source": [
    "### Correlation Analysis (Heatmap) of Numerical Features with Churn"
   ]
  },
  {
   "cell_type": "markdown",
   "id": "77b4fc17-4ddb-4754-9a68-42f68b34ac25",
   "metadata": {},
   "source": [
    "Let's get an overall picture of how tenure, MonthlyCharges and TotalCharges are correlated with Churn"
   ]
  },
  {
   "cell_type": "code",
   "execution_count": 16,
   "id": "cc7f9c28-39fa-4d75-98c8-c0596d58a319",
   "metadata": {},
   "outputs": [
    {
     "data": {
      "image/png": "[encoded data removed]",
      "text/plain": [
       "<Figure size 600x600 with 2 Axes>"
      ]
     },
     "metadata": {},
     "output_type": "display_data"
    }
   ],
   "source": [
    "numerical_features = ['tenure', 'MonthlyCharges', 'TotalCharges', 'Churn']\n",
    "\n",
    "# Compute the correlation matrix\n",
    "corr = df[numerical_features].corr()\n",
    "\n",
    "# Create mask to hide upper triangle + diagonal with all 1's\n",
    "mask = np.triu(np.ones_like(corr, dtype=bool), k=0)\n",
    "\n",
    "# Set up the matplotlib figure\n",
    "plt.figure(figsize=(6, 6))\n",
    "sns.heatmap(\n",
    "    corr,\n",
    "    mask=mask,\n",
    "    annot=True,\n",
    "    cmap='coolwarm_r',     \n",
    "    vmin=-1, vmax=1,       # force symmetric range for color contrast\n",
    "    center=0,              # center the colormap at 0\n",
    "    fmt=\".2f\",\n",
    "    linewidths=0.5\n",
    ")\n",
    "\n",
    "plt.title('Correlation Heatmap (Red = Neg, Blue = Pos)')\n",
    "plt.show()"
   ]
  },
  {
   "cell_type": "markdown",
   "id": "2f2f11ee-8ee1-420d-96be-9d9f86ba5402",
   "metadata": {},
   "source": [
    "We see a moderately negative correlation between tenure and Churn, which complements our finding from the previous Tenure by Churn boxplot. So we can generally expect that as tenure increases, the probability of Churn would decrease"
   ]
  },
  {
   "cell_type": "markdown",
   "id": "52818791-352c-4935-bbe1-5675f7909700",
   "metadata": {},
   "source": [
    "## Model Selection"
   ]
  },
  {
   "cell_type": "markdown",
   "id": "d86e8c28-6336-4e26-8630-13d0d9764981",
   "metadata": {},
   "source": [
    "- The Telco customer churn dataset has a mix of many categorical features and a few numerical features\n",
    "- Tree-based models like Random Forest can effectively handle mixed types natively, without requiring data scaling. Being an ensemble model, it is robust to noise, overfitting and can handle correlated features well (for example 'tenure' and 'TotalCharges', see Correlation Heatmap earlier). Since our focus is accuracy and reliability of churn prediction, we will use **Random Forest** as our main prediction model\n",
    "- We will use **Logistic Regression** as a baseline model to compare Random Forest against, because it is fast, interpretable and simple. It sets a reasonable lower bound on model performance. In case a more complex model like Random Forest performs worse, it may hint to the possibility that overfitting is occurring, or hyperparameter tuning is necessary."
   ]
  },
  {
   "cell_type": "markdown",
   "id": "29bc2cb9-eb57-4067-bf0b-2755345aed47",
   "metadata": {},
   "source": [
    "## Feature Engineering"
   ]
  },
  {
   "cell_type": "markdown",
   "id": "3ab0622c-eb6f-437a-a450-360e44d26a10",
   "metadata": {},
   "source": [
    "Now, let's encode all the categorical features, for usability in our predictive models.\n",
    "\n",
    "We will use Label Encoding on the features with only 2 categories and One-Hot Encoding on features having 3 or more categories."
   ]
  },
  {
   "cell_type": "markdown",
   "id": "47ceb0ef-dbfe-4673-8c90-6ec5aba550c6",
   "metadata": {},
   "source": [
    "### Identifying categorical features for Label Encoding and One-hot Encoding"
   ]
  },
  {
   "cell_type": "code",
   "execution_count": 17,
   "id": "47cc73da-c6b9-43f1-a3f9-72943640cf97",
   "metadata": {},
   "outputs": [],
   "source": [
    "label_encoding_cols = [\n",
    "    'gender',                # Male/Female\n",
    "    'Partner',               # Yes/No\n",
    "    'Dependents',            # Yes/No\n",
    "    'PhoneService',          # Yes/No\n",
    "    'PaperlessBilling'       # Yes/No\n",
    "]\n",
    "# Feature 'SeniorCitizen' was already binary (1 and 0) in the original data, hence does not need encoding\n",
    "\n",
    "one_hot_encoding_cols = [\n",
    "    'InternetService',       # DSL, Fiber optic, No\n",
    "    'Contract',              # Month-to-month, One year, Two year\n",
    "    'PaymentMethod',         # 4 payment methods\n",
    "    'MultipleLines',         # No phone service, Yes, No (and so on for the remaining columns)\n",
    "    'OnlineSecurity',\n",
    "    'OnlineBackup',\n",
    "    'DeviceProtection',\n",
    "    'TechSupport',\n",
    "    'StreamingTV',\n",
    "    'StreamingMovies'\n",
    "]"
   ]
  },
  {
   "cell_type": "markdown",
   "id": "360881d2-3575-4647-a09f-b10a2fca6ef3",
   "metadata": {},
   "source": [
    "### Encoding the categorical features"
   ]
  },
  {
   "cell_type": "code",
   "execution_count": 18,
   "id": "b9a001fc-500b-4aa1-9b15-41166b18cc67",
   "metadata": {
    "scrolled": true
   },
   "outputs": [
    {
     "name": "stdout",
     "output_type": "stream",
     "text": [
      "   gender  SeniorCitizen  Partner  Dependents  tenure  PhoneService  \\\n",
      "0       0              0        1           0       1             0   \n",
      "1       1              0        0           0      34             1   \n",
      "2       1              0        0           0       2             1   \n",
      "3       1              0        0           0      45             0   \n",
      "4       0              0        0           0       2             1   \n",
      "\n",
      "   PaperlessBilling  MonthlyCharges  TotalCharges  Churn  ...  \\\n",
      "0                 1           29.85         29.85      0  ...   \n",
      "1                 0           56.95       1889.50      0  ...   \n",
      "2                 1           53.85        108.15      1  ...   \n",
      "3                 0           42.30       1840.75      0  ...   \n",
      "4                 1           70.70        151.65      1  ...   \n",
      "\n",
      "   DeviceProtection_Yes  TechSupport_No  TechSupport_No internet service  \\\n",
      "0                     0               1                                0   \n",
      "1                     1               1                                0   \n",
      "2                     0               1                                0   \n",
      "3                     1               0                                0   \n",
      "4                     0               1                                0   \n",
      "\n",
      "   TechSupport_Yes  StreamingTV_No  StreamingTV_No internet service  \\\n",
      "0                0               1                                0   \n",
      "1                0               1                                0   \n",
      "2                0               1                                0   \n",
      "3                1               1                                0   \n",
      "4                0               1                                0   \n",
      "\n",
      "   StreamingTV_Yes  StreamingMovies_No  StreamingMovies_No internet service  \\\n",
      "0                0                   1                                    0   \n",
      "1                0                   1                                    0   \n",
      "2                0                   1                                    0   \n",
      "3                0                   1                                    0   \n",
      "4                0                   1                                    0   \n",
      "\n",
      "   StreamingMovies_Yes  \n",
      "0                    0  \n",
      "1                    0  \n",
      "2                    0  \n",
      "3                    0  \n",
      "4                    0  \n",
      "\n",
      "[5 rows x 41 columns]\n",
      "Columns:\n",
      " Index(['gender', 'SeniorCitizen', 'Partner', 'Dependents', 'tenure',\n",
      "       'PhoneService', 'PaperlessBilling', 'MonthlyCharges', 'TotalCharges',\n",
      "       'Churn', 'InternetService_DSL', 'InternetService_Fiber optic',\n",
      "       'InternetService_No', 'Contract_Month-to-month', 'Contract_One year',\n",
      "       'Contract_Two year', 'PaymentMethod_Bank transfer (automatic)',\n",
      "       'PaymentMethod_Credit card (automatic)',\n",
      "       'PaymentMethod_Electronic check', 'PaymentMethod_Mailed check',\n",
      "       'MultipleLines_No', 'MultipleLines_No phone service',\n",
      "       'MultipleLines_Yes', 'OnlineSecurity_No',\n",
      "       'OnlineSecurity_No internet service', 'OnlineSecurity_Yes',\n",
      "       'OnlineBackup_No', 'OnlineBackup_No internet service',\n",
      "       'OnlineBackup_Yes', 'DeviceProtection_No',\n",
      "       'DeviceProtection_No internet service', 'DeviceProtection_Yes',\n",
      "       'TechSupport_No', 'TechSupport_No internet service', 'TechSupport_Yes',\n",
      "       'StreamingTV_No', 'StreamingTV_No internet service', 'StreamingTV_Yes',\n",
      "       'StreamingMovies_No', 'StreamingMovies_No internet service',\n",
      "       'StreamingMovies_Yes'],\n",
      "      dtype='object')\n"
     ]
    }
   ],
   "source": [
    "# Apply Label Encoding\n",
    "for col in label_encoding_cols:\n",
    "    df[col] = LabelEncoder().fit_transform(df[col])\n",
    "\n",
    "# Apply One-Hot Encoding (OHE)\n",
    "df = pd.get_dummies(df, columns=one_hot_encoding_cols)\n",
    "\n",
    "# Converting the boolean one-hot encoded features to binary (1 and 0), for uniform representation across the data\n",
    "for col in df.columns:\n",
    "    if df[col].dtype == bool:\n",
    "        df[col] = df[col].astype(int)\n",
    "\n",
    "print(df.head())\n",
    "print('Columns:\\n', df.columns)"
   ]
  },
  {
   "cell_type": "markdown",
   "id": "5f4632e0-131f-4c4e-81fc-e1ff71c825bc",
   "metadata": {},
   "source": [
    "### Checking datatypes after encoding categorical features (all should be numeric)"
   ]
  },
  {
   "cell_type": "code",
   "execution_count": 19,
   "id": "aaf01789-e170-4653-b305-77c54448121c",
   "metadata": {
    "scrolled": true
   },
   "outputs": [
    {
     "name": "stdout",
     "output_type": "stream",
     "text": [
      "gender                                       int64\n",
      "SeniorCitizen                                int64\n",
      "Partner                                      int64\n",
      "Dependents                                   int64\n",
      "tenure                                       int64\n",
      "PhoneService                                 int64\n",
      "PaperlessBilling                             int64\n",
      "MonthlyCharges                             float64\n",
      "TotalCharges                               float64\n",
      "Churn                                        int64\n",
      "InternetService_DSL                          int64\n",
      "InternetService_Fiber optic                  int64\n",
      "InternetService_No                           int64\n",
      "Contract_Month-to-month                      int64\n",
      "Contract_One year                            int64\n",
      "Contract_Two year                            int64\n",
      "PaymentMethod_Bank transfer (automatic)      int64\n",
      "PaymentMethod_Credit card (automatic)        int64\n",
      "PaymentMethod_Electronic check               int64\n",
      "PaymentMethod_Mailed check                   int64\n",
      "MultipleLines_No                             int64\n",
      "MultipleLines_No phone service               int64\n",
      "MultipleLines_Yes                            int64\n",
      "OnlineSecurity_No                            int64\n",
      "OnlineSecurity_No internet service           int64\n",
      "OnlineSecurity_Yes                           int64\n",
      "OnlineBackup_No                              int64\n",
      "OnlineBackup_No internet service             int64\n",
      "OnlineBackup_Yes                             int64\n",
      "DeviceProtection_No                          int64\n",
      "DeviceProtection_No internet service         int64\n",
      "DeviceProtection_Yes                         int64\n",
      "TechSupport_No                               int64\n",
      "TechSupport_No internet service              int64\n",
      "TechSupport_Yes                              int64\n",
      "StreamingTV_No                               int64\n",
      "StreamingTV_No internet service              int64\n",
      "StreamingTV_Yes                              int64\n",
      "StreamingMovies_No                           int64\n",
      "StreamingMovies_No internet service          int64\n",
      "StreamingMovies_Yes                          int64\n",
      "dtype: object\n"
     ]
    }
   ],
   "source": [
    "print(df.dtypes)"
   ]
  },
  {
   "cell_type": "markdown",
   "id": "9cd6e820-11c9-4f45-acea-913093b41627",
   "metadata": {},
   "source": [
    "### Feature Scaling for Logistic Regression baseline model"
   ]
  },
  {
   "cell_type": "markdown",
   "id": "fb6110da-bf24-4e88-b2dd-2f3c4e507a97",
   "metadata": {},
   "source": [
    "While we do not require feature scaling for Random Forest as tree-based models are scale-invariant, we will need to scale the features for our baseline **Logistic Regression** model. We will scale the numeric features only."
   ]
  },
  {
   "cell_type": "code",
   "execution_count": 20,
   "id": "68f547f6-5b59-41db-9427-97b5c292647a",
   "metadata": {},
   "outputs": [],
   "source": [
    "df_scaled = df.copy()\n",
    "\n",
    "numeric_features = ['tenure', 'MonthlyCharges', 'TotalCharges']\n",
    "\n",
    "scaler = StandardScaler()\n",
    "df_scaled[numeric_features] = scaler.fit_transform(df_scaled[numeric_features])"
   ]
  },
  {
   "cell_type": "markdown",
   "id": "85ed8def-6669-41f1-983b-6d56b296770a",
   "metadata": {},
   "source": [
    "## Model Training and Evaluation"
   ]
  },
  {
   "attachments": {},
   "cell_type": "markdown",
   "id": "4c21231b-0838-46d7-9630-65d569f93046",
   "metadata": {},
   "source": [
    "As mentioned earlier, we will use Logistic Regression as our baseline model and Random Forest as our main prediction model. We will use scaled data for Logistic Regression and unscaled data for Random Forest.\n",
    "\n",
    "Let's start by first splitting the features and the target variable for both scaled and unscaled data"
   ]
  },
  {
   "cell_type": "code",
   "execution_count": 21,
   "id": "0bab3162-1707-40ad-9568-0ca3ba964df5",
   "metadata": {},
   "outputs": [],
   "source": [
    "# Split the features and target variable\n",
    "X_scaled = df_scaled.drop('Churn', axis=1)     # Scaled features for Logistic Regression\n",
    "X = df.drop('Churn', axis=1)                   # Unscaled features for Random Forest\n",
    "\n",
    "y = df['Churn']                                # Target variable"
   ]
  },
  {
   "cell_type": "markdown",
   "id": "fb20a886-296a-45f5-9ba2-36a60783e48b",
   "metadata": {},
   "source": [
    "We will be using **Stratified K-Fold Cross Validation**, since there is class imbalance in the data as revealed in our EDA. We will use 5-fold cross validation, as it's generally considered ideal for balancing computational efficiency with reliable model evaluation. Let's configure it below."
   ]
  },
  {
   "cell_type": "code",
   "execution_count": 22,
   "id": "7e40aa0d-437d-494f-b6e6-cf44820afbd0",
   "metadata": {},
   "outputs": [],
   "source": [
    "cv = StratifiedKFold(n_splits=5)"
   ]
  },
  {
   "cell_type": "markdown",
   "id": "1bbd46cc-15e3-42ac-9b6e-411eb0c263c5",
   "metadata": {},
   "source": [
    "### Logistic Regression (Baseline Model)"
   ]
  },
  {
   "cell_type": "code",
   "execution_count": 23,
   "id": "d083521b-3e88-4f01-be3d-af29e3b97143",
   "metadata": {},
   "outputs": [
    {
     "name": "stdout",
     "output_type": "stream",
     "text": [
      "F1 Macro scores: [0.7219623  0.7306795  0.71227187 0.71231554 0.71466987]\n",
      "Mean F1 Macro: 0.7183798164363755\n"
     ]
    }
   ],
   "source": [
    "# Initializing the model\n",
    "clf = LogisticRegression(class_weight='balanced', max_iter=10000, random_state=42)\n",
    "\n",
    "# Cross-validation\n",
    "scores = cross_val_score(clf, X_scaled, y, cv=cv, scoring='f1_macro')\n",
    "\n",
    "print(\"F1 Macro scores:\", scores)\n",
    "print(\"Mean F1 Macro:\", scores.mean())"
   ]
  },
  {
   "cell_type": "markdown",
   "id": "24f1dd87-0bd5-4909-b8d3-2fcc05c9828e",
   "metadata": {},
   "source": [
    "### Random Forest"
   ]
  },
  {
   "cell_type": "markdown",
   "id": "87cc9515-ec96-4d4c-a757-212eb4e76541",
   "metadata": {},
   "source": [
    "Since this is our main predictive model, we will perform **hyperparameter tuning** to find an optimal set of hyperparameters. Two popular methods are RandomizedSearchCV and GridSearchCV. Let's use RandomizedSearchCV, which is more computationally efficient than GridSearchCV, since it only samples and tests a subset of all possible combinations of hyperparameters from a specified grid, while the latter exhaustively evaluates all combinations.\n",
    "\n",
    "NOTE - The below cell might take 2-3 minutes to run"
   ]
  },
  {
   "cell_type": "code",
   "execution_count": 24,
   "id": "d552d127-ef54-424a-91a1-33bc61f71e71",
   "metadata": {},
   "outputs": [
    {
     "name": "stdout",
     "output_type": "stream",
     "text": [
      "Best Params: {'n_estimators': 200, 'min_samples_split': 2, 'min_samples_leaf': 4, 'max_features': 'sqrt', 'max_depth': 15, 'bootstrap': True}\n"
     ]
    }
   ],
   "source": [
    "# Hyperparameter grid to test from\n",
    "param_dist = {\n",
    "    'n_estimators': [100, 200, 300],\n",
    "    'max_depth': [5, 10, 15, None],\n",
    "    'min_samples_split': [2, 5, 10],\n",
    "    'min_samples_leaf': [1, 2, 4],\n",
    "    'max_features': ['sqrt', 'log2', None],\n",
    "    'bootstrap': [True, False]\n",
    "}\n",
    "\n",
    "# Run RandomizedSearchCV\n",
    "search = RandomizedSearchCV(\n",
    "    RandomForestClassifier(class_weight='balanced', random_state=42),\n",
    "    param_distributions=param_dist,\n",
    "    scoring='f1_macro',\n",
    "    cv=5,\n",
    "    n_iter=30,       # sample and test 30 hyperparameter combinations from param_dist\n",
    "    random_state=42,\n",
    "    n_jobs=-1        # use all available CPU cores on machine, to speed up the process\n",
    ")\n",
    "search.fit(X, y)\n",
    "\n",
    "# Get the most optimal combination of hyperparameters found by RandomizedSearchCV\n",
    "best_params = search.best_params_\n",
    "print(\"Best Params:\", best_params)"
   ]
  },
  {
   "cell_type": "markdown",
   "id": "9821e1c3-a6ed-4984-91ab-cccb72c08b07",
   "metadata": {},
   "source": [
    "Now let's plug in these optimal hyperparameters into our Random Forest model."
   ]
  },
  {
   "cell_type": "code",
   "execution_count": 25,
   "id": "e9bc8288-4027-4d36-908c-59431e8ddaa9",
   "metadata": {},
   "outputs": [
    {
     "name": "stdout",
     "output_type": "stream",
     "text": [
      "F1 Macro scores: [0.74836687 0.75018963 0.71588798 0.73487153 0.73287712]\n",
      "Mean F1 Macro: 0.7364386250540258\n"
     ]
    }
   ],
   "source": [
    "# Initializing the model, plugging in the optimal hyperparameters found through RandomizedSearchCV\n",
    "clf = RandomForestClassifier(class_weight='balanced', random_state=42, **best_params)\n",
    "\n",
    "# Cross-validation\n",
    "scores = cross_val_score(clf, X, y, cv=cv, scoring='f1_macro')\n",
    "\n",
    "print(\"F1 Macro scores:\", scores)\n",
    "print(\"Mean F1 Macro:\", scores.mean())"
   ]
  },
  {
   "cell_type": "markdown",
   "id": "29f3102f-4ed2-4b49-ab67-88fcf5528bb6",
   "metadata": {},
   "source": [
    "Summarizing the f1 scores:\n",
    "- Logistic Regression (baseline model) = 0.718\n",
    "- Random Forest = 0.736\n",
    "\n",
    "Thus, Random Forest after hyperparameter tuning shows better performance than our baseline Logistic Regression model."
   ]
  },
  {
   "cell_type": "markdown",
   "id": "c9f6f179-571e-4404-b15c-a794cc434b83",
   "metadata": {},
   "source": [
    "## Conclusion"
   ]
  },
  {
   "cell_type": "markdown",
   "id": "ae798128-b86f-4405-a853-a53f5b1a16d7",
   "metadata": {},
   "source": [
    "We have successfully analyzed the [Telco Customer Churn dataset](https://www.kaggle.com/datasets/blastchar/telco-customer-churn) from Kaggle, deriving key business insights from our Exploratory Data Analysis, and built a predictive machine learning model (Random Forest) to predict customer churn. We achieved an improvement over our baseline Logistic Regression model."
   ]
  }
 ],
 "metadata": {
  "kernelspec": {
   "display_name": "Python 3 (ipykernel)",
   "language": "python",
   "name": "python3"
  },
  "language_info": {
   "codemirror_mode": {
    "name": "ipython",
    "version": 3
   },
   "file_extension": ".py",
   "mimetype": "text/x-python",
   "name": "python",
   "nbconvert_exporter": "python",
   "pygments_lexer": "ipython3",
   "version": "3.13.1"
  }
 },
 "nbformat": 4,
 "nbformat_minor": 5
}
